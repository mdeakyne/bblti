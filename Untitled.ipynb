{
 "cells": [
  {
   "cell_type": "code",
   "execution_count": 40,
   "metadata": {},
   "outputs": [],
   "source": [
    "message_params = {\"iss\":\"https://blackboard.com\",\"login_hint\":\"https%3A%2F%2Fbbtest2.cc.ku.edu%2Fwebapps%2Fblackboard%2Fexecute%2Fblti%2FlaunchPlacement%3Fcmd%3Dauthenticate,884f23954de74294bff1ab9d1a8a43a7\",\"target_link_uri\":\"https://bblti.herokuapp.com\",\"lti_message_hint\":\"eyJwb3NpdGlvbiI6LTEsImZyb21VbHRyYSI6ZmFsc2UsInBsYWNlbWVudElkIjoiXzM2MF8xIiwidGFyZ2V0T3ZlcnJpZGUiOm51bGwsImZyb21HcmFkZUNlbnRlciI6ZmFsc2UsIm9wZW5OZXdXaW5kb3ciOmZhbHNlLCJkZWVwTGlua0xhdW5jaCI6ZmFsc2UsImNvdXJzZUlkIjoiXzIzNzYxNV8xIiwiY29udGVudElkIjoiXzYyMDg0NF8xIiwidGFyZ2V0TGlua1VybCI6Imh0dHBzOi8vYmJsdGkuaGVyb2t1YXBwLmNvbSJ9\"}"
   ]
  },
  {
   "cell_type": "code",
   "execution_count": 2,
   "metadata": {},
   "outputs": [],
   "source": [
    "import urllib.parse"
   ]
  },
  {
   "cell_type": "code",
   "execution_count": 4,
   "metadata": {},
   "outputs": [
    {
     "data": {
      "text/plain": [
       "'https://bbtest2.cc.ku.edu/webapps/blackboard/execute/blti/launchPlacement?cmd=authenticate,884f23954de74294bff1ab9d1a8a43a7'"
      ]
     },
     "execution_count": 4,
     "metadata": {},
     "output_type": "execute_result"
    }
   ],
   "source": [
    "urllib.parse.unquote(message_params['login_hint'])"
   ]
  },
  {
   "cell_type": "code",
   "execution_count": 36,
   "metadata": {},
   "outputs": [
    {
     "data": {
      "text/plain": [
       "'https%3A//bbtest2.cc.ku.edu/webapps/blackboard/execute/blti/launchPlacement%3Fcmd%3Dauthenticate%2C884f23954de74294bff1ab9d1a8a43a7'"
      ]
     },
     "execution_count": 36,
     "metadata": {},
     "output_type": "execute_result"
    }
   ],
   "source": [
    "urllib.parse.quote('https://bbtest2.cc.ku.edu/webapps/blackboard/execute/blti/launchPlacement?cmd=authenticate,884f23954de74294bff1ab9d1a8a43a7')"
   ]
  },
  {
   "cell_type": "code",
   "execution_count": 6,
   "metadata": {},
   "outputs": [],
   "source": [
    "import requests\n",
    "from os import getenv as ge"
   ]
  },
  {
   "cell_type": "code",
   "execution_count": 45,
   "metadata": {},
   "outputs": [],
   "source": [
    "url = requests.get(ge('auth_endpoint'), params={'login_hint':message_params['login_hint'], \n",
    "                                          'lti_message_hint':message_params['lti_message_hint'],\n",
    "                                          'client_id':ge(\"appid\"),\n",
    "                                          'nonce':\"fc5fdc6d-5dd6-47f4-b2c9-5d1216e9b771\",\n",
    "                                          'redirect_uri':message_params['target_link_uri'],\n",
    "                                          'response_type':'id_token',\n",
    "                                          'scope':'openid',\n",
    "                                          'state':'dusiushdisuhidhd'}).url"
   ]
  },
  {
   "cell_type": "code",
   "execution_count": 46,
   "metadata": {},
   "outputs": [
    {
     "data": {
      "text/plain": [
       "'https://bbtest2.cc.ku.edu/webapps/blackboard/execute/blti/launchPlacement?cmd=authenticate&client_id=8b391e79-ab66-4f8a-9fa2-027782f7a598&login_hint=https%253A%252F%252Fbbtest2.cc.ku.edu%252Fwebapps%252Fblackboard%252Fexecute%252Fblti%252FlaunchPlacement%253Fcmd%253Dauthenticate%2C884f23954de74294bff1ab9d1a8a43a7&lti_message_hint=eyJwb3NpdGlvbiI6LTEsImZyb21VbHRyYSI6ZmFsc2UsInBsYWNlbWVudElkIjoiXzM2MF8xIiwidGFyZ2V0T3ZlcnJpZGUiOm51bGwsImZyb21HcmFkZUNlbnRlciI6ZmFsc2UsIm9wZW5OZXdXaW5kb3ciOmZhbHNlLCJkZWVwTGlua0xhdW5jaCI6ZmFsc2UsImNvdXJzZUlkIjoiXzIzNzYxNV8xIiwiY29udGVudElkIjoiXzYyMDg0NF8xIiwidGFyZ2V0TGlua1VybCI6Imh0dHBzOi8vYmJsdGkuaGVyb2t1YXBwLmNvbSJ9&nonce=fc5fdc6d-5dd6-47f4-b2c9-5d1216e9b771&redirect_uri=https%3A%2F%2Fbblti.herokuapp.com&response_type=id_token&scope=openid&state=dusiushdisuhidhd'"
      ]
     },
     "execution_count": 46,
     "metadata": {},
     "output_type": "execute_result"
    }
   ],
   "source": [
    "url"
   ]
  },
  {
   "cell_type": "code",
   "execution_count": 58,
   "metadata": {},
   "outputs": [
    {
     "data": {
      "text/plain": [
       "'tokentokentoken'"
      ]
     },
     "execution_count": 58,
     "metadata": {},
     "output_type": "execute_result"
    }
   ],
   "source": [
    "requests.post('https://bblti.herokuapp.com', data={'id_token':'tokentokentoken', 'state':'yes'}).json()"
   ]
  },
  {
   "cell_type": "code",
   "execution_count": null,
   "metadata": {},
   "outputs": [],
   "source": [
    "from jose import jwt"
   ]
  },
  {
   "cell_type": "code",
   "execution_count": null,
   "metadata": {},
   "outputs": [],
   "source": [
    "example = 'eyJraWQiOiI4YjM5MWU3OS1hYjY2LTRmOGEtOWZhMi0wMjc3ODJmN2E1OTgiLCJhbGciOiJSUzI1NiJ9.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_Y291cnNlX2lkPV8yMzc2MTVfMSZjb250ZW50X2lkPV82MjA4NDRfMSZ0b0dDPWZhbHNlJmxhdW5jaF9pZD1mYjM5OTIyMy1jZjJhLTQ0Y2MtOTFlZS00ZDk5YTM3YzYwODQmbGlua19pZD1fNjIwODQ0XzEmbGF1bmNoX3RpbWU9MTYwMzQwMDIzNDYyMiJ9LCJleHAiOjE2MDM0MDM4MzQsImlhdCI6MTYwMzQwMDIzNCwiZmFtaWx5X25hbWUiOiJEZWFreW5lIiwiZW1haWwiOiJtZGVha3luZUBrdS5lZHUifQ.p2R5bKKE1QdXNN6bv9dDSDlZGXjPjLAg5QNiVJ7V3gJJ9J-dfpGV2McGjRWyUyjgU-JfCLFztysmo_ceK0NGXtd6oNqkWo6MiSonlTZo2jN5rNWzGLQWMJFH4WyGGqjosLoqQGmliXMULhktUuXOfgsPxFwGP684pGyAquUQtujqar7SxjmOqE_d_lgiNJcxb7vw1CieewC7iwlNZeJkUXDEgnM5C3kn46zkhylDftIDF1gXVI6ThtdLm6cZdjSdyGELWPHuT_GOYcsktCyl8S_ss-Gxg7HR9_UZUgXr0jJE2DnGl2iwlHAbn5TnU3c5YVEsB-7UlzOcKoHCjVuZSw'"
   ]
  },
  {
   "cell_type": "code",
   "execution_count": null,
   "metadata": {},
   "outputs": [],
   "source": [
    "jwt.decode()"
   ]
  }
 ],
 "metadata": {
  "kernelspec": {
   "display_name": "Python 3",
   "language": "python",
   "name": "python3"
  },
  "language_info": {
   "codemirror_mode": {
    "name": "ipython",
    "version": 3
   },
   "file_extension": ".py",
   "mimetype": "text/x-python",
   "name": "python",
   "nbconvert_exporter": "python",
   "pygments_lexer": "ipython3",
   "version": "3.8.5"
  }
 },
 "nbformat": 4,
 "nbformat_minor": 4
}
