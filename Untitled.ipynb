{
 "cells": [
  {
   "cell_type": "code",
   "execution_count": 40,
   "metadata": {},
   "outputs": [],
   "source": [
    "message_params = {\"iss\":\"https://blackboard.com\",\"login_hint\":\"https%3A%2F%2Fbbtest2.cc.ku.edu%2Fwebapps%2Fblackboard%2Fexecute%2Fblti%2FlaunchPlacement%3Fcmd%3Dauthenticate,884f23954de74294bff1ab9d1a8a43a7\",\"target_link_uri\":\"https://bblti.herokuapp.com\",\"lti_message_hint\":\"eyJwb3NpdGlvbiI6LTEsImZyb21VbHRyYSI6ZmFsc2UsInBsYWNlbWVudElkIjoiXzM2MF8xIiwidGFyZ2V0T3ZlcnJpZGUiOm51bGwsImZyb21HcmFkZUNlbnRlciI6ZmFsc2UsIm9wZW5OZXdXaW5kb3ciOmZhbHNlLCJkZWVwTGlua0xhdW5jaCI6ZmFsc2UsImNvdXJzZUlkIjoiXzIzNzYxNV8xIiwiY29udGVudElkIjoiXzYyMDg0NF8xIiwidGFyZ2V0TGlua1VybCI6Imh0dHBzOi8vYmJsdGkuaGVyb2t1YXBwLmNvbSJ9\"}"
   ]
  },
  {
   "cell_type": "code",
   "execution_count": 2,
   "metadata": {},
   "outputs": [],
   "source": [
    "import urllib.parse"
   ]
  },
  {
   "cell_type": "code",
   "execution_count": 4,
   "metadata": {},
   "outputs": [
    {
     "data": {
      "text/plain": [
       "'https://bbtest2.cc.ku.edu/webapps/blackboard/execute/blti/launchPlacement?cmd=authenticate,884f23954de74294bff1ab9d1a8a43a7'"
      ]
     },
     "execution_count": 4,
     "metadata": {},
     "output_type": "execute_result"
    }
   ],
   "source": [
    "urllib.parse.unquote(message_params['login_hint'])"
   ]
  },
  {
   "cell_type": "code",
   "execution_count": 36,
   "metadata": {},
   "outputs": [
    {
     "data": {
      "text/plain": [
       "'https%3A//bbtest2.cc.ku.edu/webapps/blackboard/execute/blti/launchPlacement%3Fcmd%3Dauthenticate%2C884f23954de74294bff1ab9d1a8a43a7'"
      ]
     },
     "execution_count": 36,
     "metadata": {},
     "output_type": "execute_result"
    }
   ],
   "source": [
    "urllib.parse.quote('https://bbtest2.cc.ku.edu/webapps/blackboard/execute/blti/launchPlacement?cmd=authenticate,884f23954de74294bff1ab9d1a8a43a7')"
   ]
  },
  {
   "cell_type": "code",
   "execution_count": 6,
   "metadata": {},
   "outputs": [],
   "source": [
    "import requests\n",
    "from os import getenv as ge"
   ]
  },
  {
   "cell_type": "code",
   "execution_count": 45,
   "metadata": {},
   "outputs": [],
   "source": [
    "url = requests.get(ge('auth_endpoint'), params={'login_hint':message_params['login_hint'], \n",
    "                                          'lti_message_hint':message_params['lti_message_hint'],\n",
    "                                          'client_id':ge(\"appid\"),\n",
    "                                          'nonce':\"fc5fdc6d-5dd6-47f4-b2c9-5d1216e9b771\",\n",
    "                                          'redirect_uri':message_params['target_link_uri'],\n",
    "                                          'response_type':'id_token',\n",
    "                                          'scope':'openid',\n",
    "                                          'state':'dusiushdisuhidhd'}).url"
   ]
  },
  {
   "cell_type": "code",
   "execution_count": 46,
   "metadata": {},
   "outputs": [
    {
     "data": {
      "text/plain": [
       "'https://bbtest2.cc.ku.edu/webapps/blackboard/execute/blti/launchPlacement?cmd=authenticate&client_id=8b391e79-ab66-4f8a-9fa2-027782f7a598&login_hint=https%253A%252F%252Fbbtest2.cc.ku.edu%252Fwebapps%252Fblackboard%252Fexecute%252Fblti%252FlaunchPlacement%253Fcmd%253Dauthenticate%2C884f23954de74294bff1ab9d1a8a43a7&lti_message_hint=eyJwb3NpdGlvbiI6LTEsImZyb21VbHRyYSI6ZmFsc2UsInBsYWNlbWVudElkIjoiXzM2MF8xIiwidGFyZ2V0T3ZlcnJpZGUiOm51bGwsImZyb21HcmFkZUNlbnRlciI6ZmFsc2UsIm9wZW5OZXdXaW5kb3ciOmZhbHNlLCJkZWVwTGlua0xhdW5jaCI6ZmFsc2UsImNvdXJzZUlkIjoiXzIzNzYxNV8xIiwiY29udGVudElkIjoiXzYyMDg0NF8xIiwidGFyZ2V0TGlua1VybCI6Imh0dHBzOi8vYmJsdGkuaGVyb2t1YXBwLmNvbSJ9&nonce=fc5fdc6d-5dd6-47f4-b2c9-5d1216e9b771&redirect_uri=https%3A%2F%2Fbblti.herokuapp.com&response_type=id_token&scope=openid&state=dusiushdisuhidhd'"
      ]
     },
     "execution_count": 46,
     "metadata": {},
     "output_type": "execute_result"
    }
   ],
   "source": [
    "url"
   ]
  },
  {
   "cell_type": "code",
   "execution_count": 53,
   "metadata": {},
   "outputs": [
    {
     "data": {
      "text/plain": [
       "'Really?'"
      ]
     },
     "execution_count": 53,
     "metadata": {},
     "output_type": "execute_result"
    }
   ],
   "source": [
    "requests.post('https://bblti.herokuapp.com', headers={'item':'Really?'}).json()"
   ]
  },
  {
   "cell_type": "code",
   "execution_count": null,
   "metadata": {},
   "outputs": [],
   "source": []
  }
 ],
 "metadata": {
  "kernelspec": {
   "display_name": "Python 3",
   "language": "python",
   "name": "python3"
  },
  "language_info": {
   "codemirror_mode": {
    "name": "ipython",
    "version": 3
   },
   "file_extension": ".py",
   "mimetype": "text/x-python",
   "name": "python",
   "nbconvert_exporter": "python",
   "pygments_lexer": "ipython3",
   "version": "3.8.5"
  }
 },
 "nbformat": 4,
 "nbformat_minor": 4
}
